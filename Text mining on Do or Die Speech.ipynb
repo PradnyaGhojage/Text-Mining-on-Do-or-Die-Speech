{
 "cells": [
  {
   "cell_type": "markdown",
   "metadata": {},
   "source": [
    "# Text Mining for famous 'Do or Die' Speech"
   ]
  },
  {
   "cell_type": "code",
   "execution_count": 1,
   "metadata": {},
   "outputs": [],
   "source": [
    "#Importing necessary Libraries\n",
    "import numpy as np\n",
    "import pandas as pd\n",
    "import matplotlib.pyplot as plt\n",
    "\n",
    "import nltk as nltk # NLP library\n",
    "import wordcloud as wc # Creating WordCLoud\n",
    "\n",
    "# Library- nltk, wordcloud, wordnet"
   ]
  },
  {
   "cell_type": "code",
   "execution_count": 2,
   "metadata": {},
   "outputs": [
    {
     "name": "stdout",
     "output_type": "stream",
     "text": [
      "conda 4.8.3\n",
      "\n",
      "Note: you may need to restart the kernel to use updated packages.\n"
     ]
    }
   ],
   "source": [
    "conda --version"
   ]
  },
  {
   "cell_type": "code",
   "execution_count": 3,
   "metadata": {},
   "outputs": [],
   "source": [
    "#Do or Die Speech\n",
    "\n",
    "para = \"Here is a mantra, a short one, that I give to you. You may imprint it on your hearts and let every breath of yours give expression to it. The mantra is 'Do or Die'. We shall either free India or die in the attempt; we shall not live to see the perpetuation of our slavery. Every true Congressman or woman will join the struggle with inflexible determination not to remain alive to see the country in bondage and slavery.\""
   ]
  },
  {
   "cell_type": "code",
   "execution_count": 4,
   "metadata": {},
   "outputs": [
    {
     "data": {
      "text/plain": [
       "\"Here is a mantra, a short one, that I give to you. You may imprint it on your hearts and let every breath of yours give expression to it. The mantra is 'Do or Die'. We shall either free India or die in the attempt; we shall not live to see the perpetuation of our slavery. Every true Congressman or woman will join the struggle with inflexible determination not to remain alive to see the country in bondage and slavery.\""
      ]
     },
     "execution_count": 4,
     "metadata": {},
     "output_type": "execute_result"
    }
   ],
   "source": [
    "para"
   ]
  },
  {
   "cell_type": "markdown",
   "metadata": {},
   "source": [
    "## Removing Punctuations"
   ]
  },
  {
   "cell_type": "code",
   "execution_count": 5,
   "metadata": {},
   "outputs": [
    {
     "data": {
      "text/plain": [
       "'!\"#$%&\\'()*+,-./:;<=>?@[\\\\]^_`{|}~'"
      ]
     },
     "execution_count": 5,
     "metadata": {},
     "output_type": "execute_result"
    }
   ],
   "source": [
    "import string\n",
    "punc = string.punctuation\n",
    "punc"
   ]
  },
  {
   "cell_type": "code",
   "execution_count": 6,
   "metadata": {},
   "outputs": [],
   "source": [
    "para = [char for char in para if char not in punc]"
   ]
  },
  {
   "cell_type": "code",
   "execution_count": 7,
   "metadata": {},
   "outputs": [
    {
     "data": {
      "text/plain": [
       "['H',\n",
       " 'e',\n",
       " 'r',\n",
       " 'e',\n",
       " ' ',\n",
       " 'i',\n",
       " 's',\n",
       " ' ',\n",
       " 'a',\n",
       " ' ',\n",
       " 'm',\n",
       " 'a',\n",
       " 'n',\n",
       " 't',\n",
       " 'r',\n",
       " 'a',\n",
       " ' ',\n",
       " 'a',\n",
       " ' ',\n",
       " 's',\n",
       " 'h',\n",
       " 'o',\n",
       " 'r',\n",
       " 't',\n",
       " ' ',\n",
       " 'o',\n",
       " 'n',\n",
       " 'e',\n",
       " ' ',\n",
       " 't',\n",
       " 'h',\n",
       " 'a',\n",
       " 't',\n",
       " ' ',\n",
       " 'I',\n",
       " ' ',\n",
       " 'g',\n",
       " 'i',\n",
       " 'v',\n",
       " 'e',\n",
       " ' ',\n",
       " 't',\n",
       " 'o',\n",
       " ' ',\n",
       " 'y',\n",
       " 'o',\n",
       " 'u',\n",
       " ' ',\n",
       " 'Y',\n",
       " 'o',\n",
       " 'u',\n",
       " ' ',\n",
       " 'm',\n",
       " 'a',\n",
       " 'y',\n",
       " ' ',\n",
       " 'i',\n",
       " 'm',\n",
       " 'p',\n",
       " 'r',\n",
       " 'i',\n",
       " 'n',\n",
       " 't',\n",
       " ' ',\n",
       " 'i',\n",
       " 't',\n",
       " ' ',\n",
       " 'o',\n",
       " 'n',\n",
       " ' ',\n",
       " 'y',\n",
       " 'o',\n",
       " 'u',\n",
       " 'r',\n",
       " ' ',\n",
       " 'h',\n",
       " 'e',\n",
       " 'a',\n",
       " 'r',\n",
       " 't',\n",
       " 's',\n",
       " ' ',\n",
       " 'a',\n",
       " 'n',\n",
       " 'd',\n",
       " ' ',\n",
       " 'l',\n",
       " 'e',\n",
       " 't',\n",
       " ' ',\n",
       " 'e',\n",
       " 'v',\n",
       " 'e',\n",
       " 'r',\n",
       " 'y',\n",
       " ' ',\n",
       " 'b',\n",
       " 'r',\n",
       " 'e',\n",
       " 'a',\n",
       " 't',\n",
       " 'h',\n",
       " ' ',\n",
       " 'o',\n",
       " 'f',\n",
       " ' ',\n",
       " 'y',\n",
       " 'o',\n",
       " 'u',\n",
       " 'r',\n",
       " 's',\n",
       " ' ',\n",
       " 'g',\n",
       " 'i',\n",
       " 'v',\n",
       " 'e',\n",
       " ' ',\n",
       " 'e',\n",
       " 'x',\n",
       " 'p',\n",
       " 'r',\n",
       " 'e',\n",
       " 's',\n",
       " 's',\n",
       " 'i',\n",
       " 'o',\n",
       " 'n',\n",
       " ' ',\n",
       " 't',\n",
       " 'o',\n",
       " ' ',\n",
       " 'i',\n",
       " 't',\n",
       " ' ',\n",
       " 'T',\n",
       " 'h',\n",
       " 'e',\n",
       " ' ',\n",
       " 'm',\n",
       " 'a',\n",
       " 'n',\n",
       " 't',\n",
       " 'r',\n",
       " 'a',\n",
       " ' ',\n",
       " 'i',\n",
       " 's',\n",
       " ' ',\n",
       " 'D',\n",
       " 'o',\n",
       " ' ',\n",
       " 'o',\n",
       " 'r',\n",
       " ' ',\n",
       " 'D',\n",
       " 'i',\n",
       " 'e',\n",
       " ' ',\n",
       " 'W',\n",
       " 'e',\n",
       " ' ',\n",
       " 's',\n",
       " 'h',\n",
       " 'a',\n",
       " 'l',\n",
       " 'l',\n",
       " ' ',\n",
       " 'e',\n",
       " 'i',\n",
       " 't',\n",
       " 'h',\n",
       " 'e',\n",
       " 'r',\n",
       " ' ',\n",
       " 'f',\n",
       " 'r',\n",
       " 'e',\n",
       " 'e',\n",
       " ' ',\n",
       " 'I',\n",
       " 'n',\n",
       " 'd',\n",
       " 'i',\n",
       " 'a',\n",
       " ' ',\n",
       " 'o',\n",
       " 'r',\n",
       " ' ',\n",
       " 'd',\n",
       " 'i',\n",
       " 'e',\n",
       " ' ',\n",
       " 'i',\n",
       " 'n',\n",
       " ' ',\n",
       " 't',\n",
       " 'h',\n",
       " 'e',\n",
       " ' ',\n",
       " 'a',\n",
       " 't',\n",
       " 't',\n",
       " 'e',\n",
       " 'm',\n",
       " 'p',\n",
       " 't',\n",
       " ' ',\n",
       " 'w',\n",
       " 'e',\n",
       " ' ',\n",
       " 's',\n",
       " 'h',\n",
       " 'a',\n",
       " 'l',\n",
       " 'l',\n",
       " ' ',\n",
       " 'n',\n",
       " 'o',\n",
       " 't',\n",
       " ' ',\n",
       " 'l',\n",
       " 'i',\n",
       " 'v',\n",
       " 'e',\n",
       " ' ',\n",
       " 't',\n",
       " 'o',\n",
       " ' ',\n",
       " 's',\n",
       " 'e',\n",
       " 'e',\n",
       " ' ',\n",
       " 't',\n",
       " 'h',\n",
       " 'e',\n",
       " ' ',\n",
       " 'p',\n",
       " 'e',\n",
       " 'r',\n",
       " 'p',\n",
       " 'e',\n",
       " 't',\n",
       " 'u',\n",
       " 'a',\n",
       " 't',\n",
       " 'i',\n",
       " 'o',\n",
       " 'n',\n",
       " ' ',\n",
       " 'o',\n",
       " 'f',\n",
       " ' ',\n",
       " 'o',\n",
       " 'u',\n",
       " 'r',\n",
       " ' ',\n",
       " 's',\n",
       " 'l',\n",
       " 'a',\n",
       " 'v',\n",
       " 'e',\n",
       " 'r',\n",
       " 'y',\n",
       " ' ',\n",
       " 'E',\n",
       " 'v',\n",
       " 'e',\n",
       " 'r',\n",
       " 'y',\n",
       " ' ',\n",
       " 't',\n",
       " 'r',\n",
       " 'u',\n",
       " 'e',\n",
       " ' ',\n",
       " 'C',\n",
       " 'o',\n",
       " 'n',\n",
       " 'g',\n",
       " 'r',\n",
       " 'e',\n",
       " 's',\n",
       " 's',\n",
       " 'm',\n",
       " 'a',\n",
       " 'n',\n",
       " ' ',\n",
       " 'o',\n",
       " 'r',\n",
       " ' ',\n",
       " 'w',\n",
       " 'o',\n",
       " 'm',\n",
       " 'a',\n",
       " 'n',\n",
       " ' ',\n",
       " 'w',\n",
       " 'i',\n",
       " 'l',\n",
       " 'l',\n",
       " ' ',\n",
       " 'j',\n",
       " 'o',\n",
       " 'i',\n",
       " 'n',\n",
       " ' ',\n",
       " 't',\n",
       " 'h',\n",
       " 'e',\n",
       " ' ',\n",
       " 's',\n",
       " 't',\n",
       " 'r',\n",
       " 'u',\n",
       " 'g',\n",
       " 'g',\n",
       " 'l',\n",
       " 'e',\n",
       " ' ',\n",
       " 'w',\n",
       " 'i',\n",
       " 't',\n",
       " 'h',\n",
       " ' ',\n",
       " 'i',\n",
       " 'n',\n",
       " 'f',\n",
       " 'l',\n",
       " 'e',\n",
       " 'x',\n",
       " 'i',\n",
       " 'b',\n",
       " 'l',\n",
       " 'e',\n",
       " ' ',\n",
       " 'd',\n",
       " 'e',\n",
       " 't',\n",
       " 'e',\n",
       " 'r',\n",
       " 'm',\n",
       " 'i',\n",
       " 'n',\n",
       " 'a',\n",
       " 't',\n",
       " 'i',\n",
       " 'o',\n",
       " 'n',\n",
       " ' ',\n",
       " 'n',\n",
       " 'o',\n",
       " 't',\n",
       " ' ',\n",
       " 't',\n",
       " 'o',\n",
       " ' ',\n",
       " 'r',\n",
       " 'e',\n",
       " 'm',\n",
       " 'a',\n",
       " 'i',\n",
       " 'n',\n",
       " ' ',\n",
       " 'a',\n",
       " 'l',\n",
       " 'i',\n",
       " 'v',\n",
       " 'e',\n",
       " ' ',\n",
       " 't',\n",
       " 'o',\n",
       " ' ',\n",
       " 's',\n",
       " 'e',\n",
       " 'e',\n",
       " ' ',\n",
       " 't',\n",
       " 'h',\n",
       " 'e',\n",
       " ' ',\n",
       " 'c',\n",
       " 'o',\n",
       " 'u',\n",
       " 'n',\n",
       " 't',\n",
       " 'r',\n",
       " 'y',\n",
       " ' ',\n",
       " 'i',\n",
       " 'n',\n",
       " ' ',\n",
       " 'b',\n",
       " 'o',\n",
       " 'n',\n",
       " 'd',\n",
       " 'a',\n",
       " 'g',\n",
       " 'e',\n",
       " ' ',\n",
       " 'a',\n",
       " 'n',\n",
       " 'd',\n",
       " ' ',\n",
       " 's',\n",
       " 'l',\n",
       " 'a',\n",
       " 'v',\n",
       " 'e',\n",
       " 'r',\n",
       " 'y']"
      ]
     },
     "execution_count": 7,
     "metadata": {},
     "output_type": "execute_result"
    }
   ],
   "source": [
    "para"
   ]
  },
  {
   "cell_type": "code",
   "execution_count": 8,
   "metadata": {},
   "outputs": [],
   "source": [
    "para = \"\".join([char for char in para if char not in \"''\"])"
   ]
  },
  {
   "cell_type": "code",
   "execution_count": 9,
   "metadata": {},
   "outputs": [
    {
     "data": {
      "text/plain": [
       "'Here is a mantra a short one that I give to you You may imprint it on your hearts and let every breath of yours give expression to it The mantra is Do or Die We shall either free India or die in the attempt we shall not live to see the perpetuation of our slavery Every true Congressman or woman will join the struggle with inflexible determination not to remain alive to see the country in bondage and slavery'"
      ]
     },
     "execution_count": 9,
     "metadata": {},
     "output_type": "execute_result"
    }
   ],
   "source": [
    "para"
   ]
  },
  {
   "cell_type": "markdown",
   "metadata": {},
   "source": [
    "## Tokenization"
   ]
  },
  {
   "cell_type": "code",
   "execution_count": 10,
   "metadata": {},
   "outputs": [],
   "source": [
    "para_tokens = para.split()"
   ]
  },
  {
   "cell_type": "code",
   "execution_count": 11,
   "metadata": {},
   "outputs": [
    {
     "data": {
      "text/plain": [
       "['Here',\n",
       " 'is',\n",
       " 'a',\n",
       " 'mantra',\n",
       " 'a',\n",
       " 'short',\n",
       " 'one',\n",
       " 'that',\n",
       " 'I',\n",
       " 'give',\n",
       " 'to',\n",
       " 'you',\n",
       " 'You',\n",
       " 'may',\n",
       " 'imprint',\n",
       " 'it',\n",
       " 'on',\n",
       " 'your',\n",
       " 'hearts',\n",
       " 'and',\n",
       " 'let',\n",
       " 'every',\n",
       " 'breath',\n",
       " 'of',\n",
       " 'yours',\n",
       " 'give',\n",
       " 'expression',\n",
       " 'to',\n",
       " 'it',\n",
       " 'The',\n",
       " 'mantra',\n",
       " 'is',\n",
       " 'Do',\n",
       " 'or',\n",
       " 'Die',\n",
       " 'We',\n",
       " 'shall',\n",
       " 'either',\n",
       " 'free',\n",
       " 'India',\n",
       " 'or',\n",
       " 'die',\n",
       " 'in',\n",
       " 'the',\n",
       " 'attempt',\n",
       " 'we',\n",
       " 'shall',\n",
       " 'not',\n",
       " 'live',\n",
       " 'to',\n",
       " 'see',\n",
       " 'the',\n",
       " 'perpetuation',\n",
       " 'of',\n",
       " 'our',\n",
       " 'slavery',\n",
       " 'Every',\n",
       " 'true',\n",
       " 'Congressman',\n",
       " 'or',\n",
       " 'woman',\n",
       " 'will',\n",
       " 'join',\n",
       " 'the',\n",
       " 'struggle',\n",
       " 'with',\n",
       " 'inflexible',\n",
       " 'determination',\n",
       " 'not',\n",
       " 'to',\n",
       " 'remain',\n",
       " 'alive',\n",
       " 'to',\n",
       " 'see',\n",
       " 'the',\n",
       " 'country',\n",
       " 'in',\n",
       " 'bondage',\n",
       " 'and',\n",
       " 'slavery']"
      ]
     },
     "execution_count": 11,
     "metadata": {},
     "output_type": "execute_result"
    }
   ],
   "source": [
    "para_tokens"
   ]
  },
  {
   "cell_type": "markdown",
   "metadata": {},
   "source": [
    "## Removing Stopwords"
   ]
  },
  {
   "cell_type": "code",
   "execution_count": 12,
   "metadata": {},
   "outputs": [],
   "source": [
    "stop = wc.STOPWORDS"
   ]
  },
  {
   "cell_type": "code",
   "execution_count": 13,
   "metadata": {},
   "outputs": [
    {
     "data": {
      "text/plain": [
       "{'a',\n",
       " 'about',\n",
       " 'above',\n",
       " 'after',\n",
       " 'again',\n",
       " 'against',\n",
       " 'all',\n",
       " 'also',\n",
       " 'am',\n",
       " 'an',\n",
       " 'and',\n",
       " 'any',\n",
       " 'are',\n",
       " \"aren't\",\n",
       " 'as',\n",
       " 'at',\n",
       " 'be',\n",
       " 'because',\n",
       " 'been',\n",
       " 'before',\n",
       " 'being',\n",
       " 'below',\n",
       " 'between',\n",
       " 'both',\n",
       " 'but',\n",
       " 'by',\n",
       " 'can',\n",
       " \"can't\",\n",
       " 'cannot',\n",
       " 'com',\n",
       " 'could',\n",
       " \"couldn't\",\n",
       " 'did',\n",
       " \"didn't\",\n",
       " 'do',\n",
       " 'does',\n",
       " \"doesn't\",\n",
       " 'doing',\n",
       " \"don't\",\n",
       " 'down',\n",
       " 'during',\n",
       " 'each',\n",
       " 'else',\n",
       " 'ever',\n",
       " 'few',\n",
       " 'for',\n",
       " 'from',\n",
       " 'further',\n",
       " 'get',\n",
       " 'had',\n",
       " \"hadn't\",\n",
       " 'has',\n",
       " \"hasn't\",\n",
       " 'have',\n",
       " \"haven't\",\n",
       " 'having',\n",
       " 'he',\n",
       " \"he'd\",\n",
       " \"he'll\",\n",
       " \"he's\",\n",
       " 'hence',\n",
       " 'her',\n",
       " 'here',\n",
       " \"here's\",\n",
       " 'hers',\n",
       " 'herself',\n",
       " 'him',\n",
       " 'himself',\n",
       " 'his',\n",
       " 'how',\n",
       " \"how's\",\n",
       " 'however',\n",
       " 'http',\n",
       " 'i',\n",
       " \"i'd\",\n",
       " \"i'll\",\n",
       " \"i'm\",\n",
       " \"i've\",\n",
       " 'if',\n",
       " 'in',\n",
       " 'into',\n",
       " 'is',\n",
       " \"isn't\",\n",
       " 'it',\n",
       " \"it's\",\n",
       " 'its',\n",
       " 'itself',\n",
       " 'just',\n",
       " 'k',\n",
       " \"let's\",\n",
       " 'like',\n",
       " 'me',\n",
       " 'more',\n",
       " 'most',\n",
       " \"mustn't\",\n",
       " 'my',\n",
       " 'myself',\n",
       " 'no',\n",
       " 'nor',\n",
       " 'not',\n",
       " 'of',\n",
       " 'off',\n",
       " 'on',\n",
       " 'once',\n",
       " 'only',\n",
       " 'or',\n",
       " 'other',\n",
       " 'otherwise',\n",
       " 'ought',\n",
       " 'our',\n",
       " 'ours',\n",
       " 'ourselves',\n",
       " 'out',\n",
       " 'over',\n",
       " 'own',\n",
       " 'r',\n",
       " 'same',\n",
       " 'shall',\n",
       " \"shan't\",\n",
       " 'she',\n",
       " \"she'd\",\n",
       " \"she'll\",\n",
       " \"she's\",\n",
       " 'should',\n",
       " \"shouldn't\",\n",
       " 'since',\n",
       " 'so',\n",
       " 'some',\n",
       " 'such',\n",
       " 'than',\n",
       " 'that',\n",
       " \"that's\",\n",
       " 'the',\n",
       " 'their',\n",
       " 'theirs',\n",
       " 'them',\n",
       " 'themselves',\n",
       " 'then',\n",
       " 'there',\n",
       " \"there's\",\n",
       " 'therefore',\n",
       " 'these',\n",
       " 'they',\n",
       " \"they'd\",\n",
       " \"they'll\",\n",
       " \"they're\",\n",
       " \"they've\",\n",
       " 'this',\n",
       " 'those',\n",
       " 'through',\n",
       " 'to',\n",
       " 'too',\n",
       " 'under',\n",
       " 'until',\n",
       " 'up',\n",
       " 'very',\n",
       " 'was',\n",
       " \"wasn't\",\n",
       " 'we',\n",
       " \"we'd\",\n",
       " \"we'll\",\n",
       " \"we're\",\n",
       " \"we've\",\n",
       " 'were',\n",
       " \"weren't\",\n",
       " 'what',\n",
       " \"what's\",\n",
       " 'when',\n",
       " \"when's\",\n",
       " 'where',\n",
       " \"where's\",\n",
       " 'which',\n",
       " 'while',\n",
       " 'who',\n",
       " \"who's\",\n",
       " 'whom',\n",
       " 'why',\n",
       " \"why's\",\n",
       " 'with',\n",
       " \"won't\",\n",
       " 'would',\n",
       " \"wouldn't\",\n",
       " 'www',\n",
       " 'you',\n",
       " \"you'd\",\n",
       " \"you'll\",\n",
       " \"you're\",\n",
       " \"you've\",\n",
       " 'your',\n",
       " 'yours',\n",
       " 'yourself',\n",
       " 'yourselves'}"
      ]
     },
     "execution_count": 13,
     "metadata": {},
     "output_type": "execute_result"
    }
   ],
   "source": [
    "stop"
   ]
  },
  {
   "cell_type": "code",
   "execution_count": 14,
   "metadata": {
    "scrolled": true
   },
   "outputs": [
    {
     "data": {
      "text/plain": [
       "['Here',\n",
       " 'mantra',\n",
       " 'short',\n",
       " 'one',\n",
       " 'I',\n",
       " 'give',\n",
       " 'You',\n",
       " 'may',\n",
       " 'imprint',\n",
       " 'hearts',\n",
       " 'let',\n",
       " 'every',\n",
       " 'breath',\n",
       " 'give',\n",
       " 'expression',\n",
       " 'The',\n",
       " 'mantra',\n",
       " 'Do',\n",
       " 'Die',\n",
       " 'We',\n",
       " 'either',\n",
       " 'free',\n",
       " 'India',\n",
       " 'die',\n",
       " 'attempt',\n",
       " 'live',\n",
       " 'see',\n",
       " 'perpetuation',\n",
       " 'slavery',\n",
       " 'Every',\n",
       " 'true',\n",
       " 'Congressman',\n",
       " 'woman',\n",
       " 'will',\n",
       " 'join',\n",
       " 'struggle',\n",
       " 'inflexible',\n",
       " 'determination',\n",
       " 'remain',\n",
       " 'alive',\n",
       " 'see',\n",
       " 'country',\n",
       " 'bondage',\n",
       " 'slavery']"
      ]
     },
     "execution_count": 14,
     "metadata": {},
     "output_type": "execute_result"
    }
   ],
   "source": [
    "para_stop = [word for word in para_tokens if word not in stop]\n",
    "para_stop"
   ]
  },
  {
   "cell_type": "markdown",
   "metadata": {},
   "source": [
    "### Some of the stopwords still not removed due to uppercases"
   ]
  },
  {
   "cell_type": "code",
   "execution_count": 15,
   "metadata": {},
   "outputs": [],
   "source": [
    "# Lambda function for converting string to lowercase\n",
    "para_lower = list(map(lambda x: x.lower(), para_stop))"
   ]
  },
  {
   "cell_type": "code",
   "execution_count": 16,
   "metadata": {
    "scrolled": true
   },
   "outputs": [
    {
     "data": {
      "text/plain": [
       "['here',\n",
       " 'mantra',\n",
       " 'short',\n",
       " 'one',\n",
       " 'i',\n",
       " 'give',\n",
       " 'you',\n",
       " 'may',\n",
       " 'imprint',\n",
       " 'hearts',\n",
       " 'let',\n",
       " 'every',\n",
       " 'breath',\n",
       " 'give',\n",
       " 'expression',\n",
       " 'the',\n",
       " 'mantra',\n",
       " 'do',\n",
       " 'die',\n",
       " 'we',\n",
       " 'either',\n",
       " 'free',\n",
       " 'india',\n",
       " 'die',\n",
       " 'attempt',\n",
       " 'live',\n",
       " 'see',\n",
       " 'perpetuation',\n",
       " 'slavery',\n",
       " 'every',\n",
       " 'true',\n",
       " 'congressman',\n",
       " 'woman',\n",
       " 'will',\n",
       " 'join',\n",
       " 'struggle',\n",
       " 'inflexible',\n",
       " 'determination',\n",
       " 'remain',\n",
       " 'alive',\n",
       " 'see',\n",
       " 'country',\n",
       " 'bondage',\n",
       " 'slavery']"
      ]
     },
     "execution_count": 16,
     "metadata": {},
     "output_type": "execute_result"
    }
   ],
   "source": [
    "para_lower"
   ]
  },
  {
   "cell_type": "code",
   "execution_count": 17,
   "metadata": {},
   "outputs": [
    {
     "data": {
      "text/plain": [
       "['mantra',\n",
       " 'short',\n",
       " 'one',\n",
       " 'give',\n",
       " 'may',\n",
       " 'imprint',\n",
       " 'hearts',\n",
       " 'let',\n",
       " 'every',\n",
       " 'breath',\n",
       " 'give',\n",
       " 'expression',\n",
       " 'mantra',\n",
       " 'die',\n",
       " 'either',\n",
       " 'free',\n",
       " 'india',\n",
       " 'die',\n",
       " 'attempt',\n",
       " 'live',\n",
       " 'see',\n",
       " 'perpetuation',\n",
       " 'slavery',\n",
       " 'every',\n",
       " 'true',\n",
       " 'congressman',\n",
       " 'woman',\n",
       " 'will',\n",
       " 'join',\n",
       " 'struggle',\n",
       " 'inflexible',\n",
       " 'determination',\n",
       " 'remain',\n",
       " 'alive',\n",
       " 'see',\n",
       " 'country',\n",
       " 'bondage',\n",
       " 'slavery']"
      ]
     },
     "execution_count": 17,
     "metadata": {},
     "output_type": "execute_result"
    }
   ],
   "source": [
    "# after converting to lowercase again passing it for removing stopwords\n",
    "paraPreProcessed = [word for word in para_lower if word not in stop]\n",
    "paraPreProcessed"
   ]
  },
  {
   "cell_type": "markdown",
   "metadata": {},
   "source": [
    "## Stemming"
   ]
  },
  {
   "cell_type": "code",
   "execution_count": 18,
   "metadata": {},
   "outputs": [
    {
     "data": {
      "text/plain": [
       "['mantra',\n",
       " 'short',\n",
       " 'one',\n",
       " 'give',\n",
       " 'may',\n",
       " 'imprint',\n",
       " 'heart',\n",
       " 'let',\n",
       " 'everi',\n",
       " 'breath',\n",
       " 'give',\n",
       " 'express',\n",
       " 'mantra',\n",
       " 'die',\n",
       " 'either',\n",
       " 'free',\n",
       " 'india',\n",
       " 'die',\n",
       " 'attempt',\n",
       " 'live',\n",
       " 'see',\n",
       " 'perpetu',\n",
       " 'slaveri',\n",
       " 'everi',\n",
       " 'true',\n",
       " 'congressman',\n",
       " 'woman',\n",
       " 'will',\n",
       " 'join',\n",
       " 'struggl',\n",
       " 'inflex',\n",
       " 'determin',\n",
       " 'remain',\n",
       " 'aliv',\n",
       " 'see',\n",
       " 'countri',\n",
       " 'bondag',\n",
       " 'slaveri']"
      ]
     },
     "execution_count": 18,
     "metadata": {},
     "output_type": "execute_result"
    }
   ],
   "source": [
    "# Stemming to root word\n",
    "\n",
    "stemmer = nltk.PorterStemmer()\n",
    "para_stemmer = [stemmer.stem(word) for word in paraPreProcessed]\n",
    "para_stemmer"
   ]
  },
  {
   "cell_type": "markdown",
   "metadata": {},
   "source": [
    "## Lemmatization"
   ]
  },
  {
   "cell_type": "code",
   "execution_count": 19,
   "metadata": {},
   "outputs": [
    {
     "data": {
      "text/plain": [
       "['mantra',\n",
       " 'short',\n",
       " 'one',\n",
       " 'give',\n",
       " 'may',\n",
       " 'imprint',\n",
       " 'heart',\n",
       " 'let',\n",
       " 'every',\n",
       " 'breath',\n",
       " 'give',\n",
       " 'expression',\n",
       " 'mantra',\n",
       " 'die',\n",
       " 'either',\n",
       " 'free',\n",
       " 'india',\n",
       " 'die',\n",
       " 'attempt',\n",
       " 'live',\n",
       " 'see',\n",
       " 'perpetuation',\n",
       " 'slavery',\n",
       " 'every',\n",
       " 'true',\n",
       " 'congressman',\n",
       " 'woman',\n",
       " 'will',\n",
       " 'join',\n",
       " 'struggle',\n",
       " 'inflexible',\n",
       " 'determination',\n",
       " 'remain',\n",
       " 'alive',\n",
       " 'see',\n",
       " 'country',\n",
       " 'bondage',\n",
       " 'slavery']"
      ]
     },
     "execution_count": 19,
     "metadata": {},
     "output_type": "execute_result"
    }
   ],
   "source": [
    "# Lemmatizing to root word, which belongs to actual english dictionary or brings out context\n",
    "\n",
    "lemma = nltk.WordNetLemmatizer()\n",
    "para_lemma = [lemma.lemmatize(word) for word in paraPreProcessed]\n",
    "para_lemma"
   ]
  },
  {
   "cell_type": "code",
   "execution_count": 20,
   "metadata": {},
   "outputs": [
    {
     "data": {
      "text/plain": [
       "list"
      ]
     },
     "execution_count": 20,
     "metadata": {},
     "output_type": "execute_result"
    }
   ],
   "source": [
    "type(para_lemma)"
   ]
  },
  {
   "cell_type": "markdown",
   "metadata": {},
   "source": [
    "# WordCloud"
   ]
  },
  {
   "cell_type": "code",
   "execution_count": 21,
   "metadata": {},
   "outputs": [
    {
     "data": {
      "text/plain": [
       "'mantra short one give may imprint heart let every breath give expression mantra die either free india die attempt live see perpetuation slavery every true congressman woman will join struggle inflexible determination remain alive see country bondage slavery'"
      ]
     },
     "execution_count": 21,
     "metadata": {},
     "output_type": "execute_result"
    }
   ],
   "source": [
    "# Converting list to string for creating wordcloud out of it\n",
    "para_processed = \" \".join([word for word in para_lemma])\n",
    "para_processed"
   ]
  },
  {
   "cell_type": "code",
   "execution_count": 22,
   "metadata": {},
   "outputs": [
    {
     "data": {
      "text/plain": [
       "str"
      ]
     },
     "execution_count": 22,
     "metadata": {},
     "output_type": "execute_result"
    }
   ],
   "source": [
    "type(para_processed)"
   ]
  },
  {
   "cell_type": "code",
   "execution_count": 23,
   "metadata": {},
   "outputs": [
    {
     "data": {
      "text/plain": [
       "<matplotlib.image.AxesImage at 0x167d3c94470>"
      ]
     },
     "execution_count": 23,
     "metadata": {},
     "output_type": "execute_result"
    },
    {
     "data": {
      "image/png": "[encoded data removed]",
      "text/plain": [
       "<Figure size 432x288 with 1 Axes>"
      ]
     },
     "metadata": {
      "needs_background": "light"
     },
     "output_type": "display_data"
    }
   ],
   "source": [
    "wordcloud = wc.WordCloud(max_words = 30, background_color = \"Azure\").generate(para_processed)\n",
    "plt.imshow(wordcloud)"
   ]
  },
  {
   "cell_type": "code",
   "execution_count": 24,
   "metadata": {
    "scrolled": false
   },
   "outputs": [
    {
     "data": {
      "text/plain": [
       "<matplotlib.image.AxesImage at 0x167d3d368d0>"
      ]
     },
     "execution_count": 24,
     "metadata": {},
     "output_type": "execute_result"
    },
    {
     "data": {
      "image/png": "[encoded data removed]",
      "text/plain": [
       "<Figure size 432x288 with 1 Axes>"
      ]
     },
     "metadata": {
      "needs_background": "light"
     },
     "output_type": "display_data"
    }
   ],
   "source": [
    "plt.axis(\"off\")\n",
    "plt.imshow(wordcloud)"
   ]
  }
 ],
 "metadata": {
  "kernelspec": {
   "display_name": "Python 3",
   "language": "python",
   "name": "python3"
  },
  "language_info": {
   "codemirror_mode": {
    "name": "ipython",
    "version": 3
   },
   "file_extension": ".py",
   "mimetype": "text/x-python",
   "name": "python",
   "nbconvert_exporter": "python",
   "pygments_lexer": "ipython3",
   "version": "3.7.3"
  }
 },
 "nbformat": 4,
 "nbformat_minor": 2
}
